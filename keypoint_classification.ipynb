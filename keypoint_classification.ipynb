{
  "cells": [
    {
      "cell_type": "code",
      "execution_count": 1,
      "metadata": {
        "id": "igMyGnjE9hEp"
      },
      "outputs": [],
      "source": [
        "import csv\n",
        "\n",
        "import numpy as np\n",
        "import tensorflow as tf\n",
        "from sklearn.model_selection import train_test_split\n",
        "\n",
        "RANDOM_SEED = 42"
      ]
    },
    {
      "cell_type": "markdown",
      "metadata": {
        "id": "t2HDvhIu9hEr"
      },
      "source": [
        "# Specify each path"
      ]
    },
    {
      "cell_type": "code",
      "execution_count": 2,
      "metadata": {
        "id": "9NvZP2Zn9hEy"
      },
      "outputs": [],
      "source": [
        "dataset = 'model/keypoint_classifier/keypoint.csv'\n",
        "model_save_path = 'model/keypoint_classifier/keypoint_classifier.hdf5'\n",
        "tflite_save_path = 'model/keypoint_classifier/keypoint_classifier.tflite'"
      ]
    },
    {
      "cell_type": "markdown",
      "metadata": {
        "id": "s5oMH7x19hEz"
      },
      "source": [
        "# Set number of classes"
      ]
    },
    {
      "cell_type": "code",
      "execution_count": 3,
      "metadata": {
        "id": "du4kodXL9hEz"
      },
      "outputs": [],
      "source": [
        "NUM_CLASSES = 4"
      ]
    },
    {
      "cell_type": "markdown",
      "metadata": {
        "id": "XjnL0uso9hEz"
      },
      "source": [
        "# Dataset reading"
      ]
    },
    {
      "cell_type": "code",
      "execution_count": 4,
      "metadata": {
        "id": "QT5ZqtEz9hE0"
      },
      "outputs": [],
      "source": [
        "X_dataset = np.loadtxt(dataset, delimiter=',', dtype='float32', usecols=list(range(1, (21 * 2) + 1)))"
      ]
    },
    {
      "cell_type": "code",
      "execution_count": 5,
      "metadata": {
        "id": "QmoKFsp49hE0"
      },
      "outputs": [],
      "source": [
        "y_dataset = np.loadtxt(dataset, delimiter=',', dtype='int32', usecols=(0))"
      ]
    },
    {
      "cell_type": "code",
      "execution_count": 6,
      "metadata": {
        "id": "xQU7JTZ_9hE0"
      },
      "outputs": [],
      "source": [
        "X_train, X_test, y_train, y_test = train_test_split(X_dataset, y_dataset, train_size=0.75, random_state=RANDOM_SEED)"
      ]
    },
    {
      "cell_type": "markdown",
      "metadata": {
        "id": "mxK_lETT9hE0"
      },
      "source": [
        "# Model building"
      ]
    },
    {
      "cell_type": "code",
      "execution_count": 7,
      "metadata": {
        "id": "vHBmUf1t9hE1"
      },
      "outputs": [],
      "source": [
        "model = tf.keras.models.Sequential([\n",
        "    tf.keras.layers.Input((21 * 2, )),\n",
        "    tf.keras.layers.Dropout(0.2),\n",
        "    tf.keras.layers.Dense(20, activation='relu'),\n",
        "    tf.keras.layers.Dropout(0.4),\n",
        "    tf.keras.layers.Dense(10, activation='relu'),\n",
        "    tf.keras.layers.Dense(NUM_CLASSES, activation='softmax')\n",
        "])"
      ]
    },
    {
      "cell_type": "code",
      "execution_count": 8,
      "metadata": {
        "colab": {
          "base_uri": "https://localhost:8080/"
        },
        "id": "ypqky9tc9hE1",
        "outputId": "5db082bb-30e3-4110-bf63-a1ee777ecd46"
      },
      "outputs": [
        {
          "name": "stdout",
          "output_type": "stream",
          "text": [
            "Model: \"sequential\"\n",
            "_________________________________________________________________\n",
            " Layer (type)                Output Shape              Param #   \n",
            "=================================================================\n",
            " dropout (Dropout)           (None, 42)                0         \n",
            "                                                                 \n",
            " dense (Dense)               (None, 20)                860       \n",
            "                                                                 \n",
            " dropout_1 (Dropout)         (None, 20)                0         \n",
            "                                                                 \n",
            " dense_1 (Dense)             (None, 10)                210       \n",
            "                                                                 \n",
            " dense_2 (Dense)             (None, 4)                 44        \n",
            "                                                                 \n",
            "=================================================================\n",
            "Total params: 1,114\n",
            "Trainable params: 1,114\n",
            "Non-trainable params: 0\n",
            "_________________________________________________________________\n"
          ]
        }
      ],
      "source": [
        "model.summary()  # tf.keras.utils.plot_model(model, show_shapes=True)"
      ]
    },
    {
      "cell_type": "code",
      "execution_count": 9,
      "metadata": {
        "id": "MbMjOflQ9hE1"
      },
      "outputs": [],
      "source": [
        "# Model checkpoint callback\n",
        "cp_callback = tf.keras.callbacks.ModelCheckpoint(\n",
        "    model_save_path, verbose=1, save_weights_only=False)\n",
        "# Callback for early stopping\n",
        "es_callback = tf.keras.callbacks.EarlyStopping(patience=20, verbose=1)"
      ]
    },
    {
      "cell_type": "code",
      "execution_count": 10,
      "metadata": {
        "id": "c3Dac0M_9hE2"
      },
      "outputs": [],
      "source": [
        "# Model compilation\n",
        "model.compile(\n",
        "    optimizer='adam',\n",
        "    loss='sparse_categorical_crossentropy',\n",
        "    metrics=['accuracy']\n",
        ")"
      ]
    },
    {
      "cell_type": "markdown",
      "metadata": {
        "id": "7XI0j1Iu9hE2"
      },
      "source": [
        "# Model training"
      ]
    },
    {
      "cell_type": "code",
      "execution_count": 11,
      "metadata": {
        "colab": {
          "base_uri": "https://localhost:8080/"
        },
        "id": "WirBl-JE9hE3",
        "outputId": "71b30ca2-8294-4d9d-8aa2-800d90d399de",
        "scrolled": true
      },
      "outputs": [
        {
          "name": "stdout",
          "output_type": "stream",
          "text": [
            "Epoch 1/1000\n",
            "21/29 [====================>.........] - ETA: 0s - loss: 1.4087 - accuracy: 0.2980  \n",
            "Epoch 1: saving model to model/keypoint_classifier\\keypoint_classifier.hdf5\n",
            "29/29 [==============================] - 3s 9ms/step - loss: 1.3875 - accuracy: 0.3092 - val_loss: 1.2613 - val_accuracy: 0.3651\n",
            "Epoch 2/1000\n",
            "22/29 [=====================>........] - ETA: 0s - loss: 1.2852 - accuracy: 0.3445\n",
            "Epoch 2: saving model to model/keypoint_classifier\\keypoint_classifier.hdf5\n",
            "29/29 [==============================] - 0s 4ms/step - loss: 1.2766 - accuracy: 0.3540 - val_loss: 1.1976 - val_accuracy: 0.3810\n",
            "Epoch 3/1000\n",
            "21/29 [====================>.........] - ETA: 0s - loss: 1.2218 - accuracy: 0.3906\n",
            "Epoch 3: saving model to model/keypoint_classifier\\keypoint_classifier.hdf5\n",
            "29/29 [==============================] - 0s 5ms/step - loss: 1.2216 - accuracy: 0.3891 - val_loss: 1.1502 - val_accuracy: 0.4119\n",
            "Epoch 4/1000\n",
            "19/29 [==================>...........] - ETA: 0s - loss: 1.1830 - accuracy: 0.4165\n",
            "Epoch 4: saving model to model/keypoint_classifier\\keypoint_classifier.hdf5\n",
            "29/29 [==============================] - 0s 5ms/step - loss: 1.1798 - accuracy: 0.4195 - val_loss: 1.1038 - val_accuracy: 0.4971\n",
            "Epoch 5/1000\n",
            "22/29 [=====================>........] - ETA: 0s - loss: 1.1419 - accuracy: 0.4460\n",
            "Epoch 5: saving model to model/keypoint_classifier\\keypoint_classifier.hdf5\n",
            "29/29 [==============================] - 0s 5ms/step - loss: 1.1362 - accuracy: 0.4504 - val_loss: 1.0498 - val_accuracy: 0.5205\n",
            "Epoch 6/1000\n",
            "22/29 [=====================>........] - ETA: 0s - loss: 1.1036 - accuracy: 0.4741\n",
            "Epoch 6: saving model to model/keypoint_classifier\\keypoint_classifier.hdf5\n",
            "29/29 [==============================] - 0s 4ms/step - loss: 1.0983 - accuracy: 0.4786 - val_loss: 0.9923 - val_accuracy: 0.5514\n",
            "Epoch 7/1000\n",
            "21/29 [====================>.........] - ETA: 0s - loss: 1.0650 - accuracy: 0.5115\n",
            "Epoch 7: saving model to model/keypoint_classifier\\keypoint_classifier.hdf5\n",
            "29/29 [==============================] - 0s 4ms/step - loss: 1.0694 - accuracy: 0.5025 - val_loss: 0.9407 - val_accuracy: 0.5848\n",
            "Epoch 8/1000\n",
            "21/29 [====================>.........] - ETA: 0s - loss: 1.0502 - accuracy: 0.5041\n",
            "Epoch 8: saving model to model/keypoint_classifier\\keypoint_classifier.hdf5\n",
            "29/29 [==============================] - 0s 4ms/step - loss: 1.0427 - accuracy: 0.5078 - val_loss: 0.9096 - val_accuracy: 0.5998\n",
            "Epoch 9/1000\n",
            "21/29 [====================>.........] - ETA: 0s - loss: 1.0184 - accuracy: 0.5339\n",
            "Epoch 9: saving model to model/keypoint_classifier\\keypoint_classifier.hdf5\n",
            "29/29 [==============================] - 0s 4ms/step - loss: 1.0150 - accuracy: 0.5359 - val_loss: 0.8666 - val_accuracy: 0.6575\n",
            "Epoch 10/1000\n",
            "21/29 [====================>.........] - ETA: 0s - loss: 0.9929 - accuracy: 0.5439\n",
            "Epoch 10: saving model to model/keypoint_classifier\\keypoint_classifier.hdf5\n",
            "29/29 [==============================] - 0s 5ms/step - loss: 0.9911 - accuracy: 0.5468 - val_loss: 0.8308 - val_accuracy: 0.6525\n",
            "Epoch 11/1000\n",
            "20/29 [===================>..........] - ETA: 0s - loss: 0.9762 - accuracy: 0.5461\n",
            "Epoch 11: saving model to model/keypoint_classifier\\keypoint_classifier.hdf5\n",
            "29/29 [==============================] - 0s 4ms/step - loss: 0.9709 - accuracy: 0.5524 - val_loss: 0.8006 - val_accuracy: 0.6767\n",
            "Epoch 12/1000\n",
            "21/29 [====================>.........] - ETA: 0s - loss: 0.9546 - accuracy: 0.5707\n",
            "Epoch 12: saving model to model/keypoint_classifier\\keypoint_classifier.hdf5\n",
            "29/29 [==============================] - 0s 4ms/step - loss: 0.9445 - accuracy: 0.5738 - val_loss: 0.7545 - val_accuracy: 0.7135\n",
            "Epoch 13/1000\n",
            "21/29 [====================>.........] - ETA: 0s - loss: 0.9257 - accuracy: 0.5714\n",
            "Epoch 13: saving model to model/keypoint_classifier\\keypoint_classifier.hdf5\n",
            "29/29 [==============================] - 0s 5ms/step - loss: 0.9256 - accuracy: 0.5705 - val_loss: 0.7117 - val_accuracy: 0.7343\n",
            "Epoch 14/1000\n",
            "22/29 [=====================>........] - ETA: 0s - loss: 0.9056 - accuracy: 0.5934\n",
            "Epoch 14: saving model to model/keypoint_classifier\\keypoint_classifier.hdf5\n",
            "29/29 [==============================] - 0s 4ms/step - loss: 0.8973 - accuracy: 0.5975 - val_loss: 0.6861 - val_accuracy: 0.7510\n",
            "Epoch 15/1000\n",
            "21/29 [====================>.........] - ETA: 0s - loss: 0.8831 - accuracy: 0.6097\n",
            "Epoch 15: saving model to model/keypoint_classifier\\keypoint_classifier.hdf5\n",
            "29/29 [==============================] - 0s 5ms/step - loss: 0.8802 - accuracy: 0.6156 - val_loss: 0.6541 - val_accuracy: 0.8354\n",
            "Epoch 16/1000\n",
            "20/29 [===================>..........] - ETA: 0s - loss: 0.8627 - accuracy: 0.6258\n",
            "Epoch 16: saving model to model/keypoint_classifier\\keypoint_classifier.hdf5\n",
            "29/29 [==============================] - 0s 5ms/step - loss: 0.8507 - accuracy: 0.6290 - val_loss: 0.6118 - val_accuracy: 0.8480\n",
            "Epoch 17/1000\n",
            "20/29 [===================>..........] - ETA: 0s - loss: 0.8369 - accuracy: 0.6324\n",
            "Epoch 17: saving model to model/keypoint_classifier\\keypoint_classifier.hdf5\n",
            "29/29 [==============================] - 0s 5ms/step - loss: 0.8404 - accuracy: 0.6304 - val_loss: 0.5828 - val_accuracy: 0.8596\n",
            "Epoch 18/1000\n",
            "20/29 [===================>..........] - ETA: 0s - loss: 0.8129 - accuracy: 0.6309\n",
            "Epoch 18: saving model to model/keypoint_classifier\\keypoint_classifier.hdf5\n",
            "29/29 [==============================] - 0s 5ms/step - loss: 0.8169 - accuracy: 0.6365 - val_loss: 0.5595 - val_accuracy: 0.8605\n",
            "Epoch 19/1000\n",
            "19/29 [==================>...........] - ETA: 0s - loss: 0.8066 - accuracy: 0.6567\n",
            "Epoch 19: saving model to model/keypoint_classifier\\keypoint_classifier.hdf5\n",
            "29/29 [==============================] - 0s 5ms/step - loss: 0.8079 - accuracy: 0.6577 - val_loss: 0.5382 - val_accuracy: 0.8755\n",
            "Epoch 20/1000\n",
            "20/29 [===================>..........] - ETA: 0s - loss: 0.8016 - accuracy: 0.6531\n",
            "Epoch 20: saving model to model/keypoint_classifier\\keypoint_classifier.hdf5\n",
            "29/29 [==============================] - 0s 5ms/step - loss: 0.8023 - accuracy: 0.6518 - val_loss: 0.5214 - val_accuracy: 0.9023\n",
            "Epoch 21/1000\n",
            "20/29 [===================>..........] - ETA: 0s - loss: 0.7850 - accuracy: 0.6742\n",
            "Epoch 21: saving model to model/keypoint_classifier\\keypoint_classifier.hdf5\n",
            "29/29 [==============================] - 0s 5ms/step - loss: 0.7791 - accuracy: 0.6744 - val_loss: 0.5016 - val_accuracy: 0.9198\n",
            "Epoch 22/1000\n",
            "21/29 [====================>.........] - ETA: 0s - loss: 0.7520 - accuracy: 0.6819\n",
            "Epoch 22: saving model to model/keypoint_classifier\\keypoint_classifier.hdf5\n",
            "29/29 [==============================] - 0s 4ms/step - loss: 0.7473 - accuracy: 0.6883 - val_loss: 0.4801 - val_accuracy: 0.9248\n",
            "Epoch 23/1000\n",
            "20/29 [===================>..........] - ETA: 0s - loss: 0.7494 - accuracy: 0.6820\n",
            "Epoch 23: saving model to model/keypoint_classifier\\keypoint_classifier.hdf5\n",
            "29/29 [==============================] - 0s 5ms/step - loss: 0.7449 - accuracy: 0.6864 - val_loss: 0.4667 - val_accuracy: 0.9240\n",
            "Epoch 24/1000\n",
            "20/29 [===================>..........] - ETA: 0s - loss: 0.7398 - accuracy: 0.6895\n",
            "Epoch 24: saving model to model/keypoint_classifier\\keypoint_classifier.hdf5\n",
            "29/29 [==============================] - 0s 5ms/step - loss: 0.7346 - accuracy: 0.6975 - val_loss: 0.4581 - val_accuracy: 0.9273\n",
            "Epoch 25/1000\n",
            "19/29 [==================>...........] - ETA: 0s - loss: 0.7175 - accuracy: 0.6970\n",
            "Epoch 25: saving model to model/keypoint_classifier\\keypoint_classifier.hdf5\n",
            "29/29 [==============================] - 0s 5ms/step - loss: 0.7115 - accuracy: 0.6969 - val_loss: 0.4338 - val_accuracy: 0.9332\n",
            "Epoch 26/1000\n",
            "17/29 [================>.............] - ETA: 0s - loss: 0.7240 - accuracy: 0.7013\n",
            "Epoch 26: saving model to model/keypoint_classifier\\keypoint_classifier.hdf5\n",
            "29/29 [==============================] - 0s 5ms/step - loss: 0.7207 - accuracy: 0.7006 - val_loss: 0.4257 - val_accuracy: 0.9398\n",
            "Epoch 27/1000\n",
            "18/29 [=================>............] - ETA: 0s - loss: 0.6900 - accuracy: 0.7044\n",
            "Epoch 27: saving model to model/keypoint_classifier\\keypoint_classifier.hdf5\n",
            "29/29 [==============================] - 0s 5ms/step - loss: 0.6965 - accuracy: 0.7078 - val_loss: 0.4103 - val_accuracy: 0.9340\n",
            "Epoch 28/1000\n",
            "19/29 [==================>...........] - ETA: 0s - loss: 0.7042 - accuracy: 0.7019\n",
            "Epoch 28: saving model to model/keypoint_classifier\\keypoint_classifier.hdf5\n",
            "29/29 [==============================] - 0s 5ms/step - loss: 0.7033 - accuracy: 0.7072 - val_loss: 0.4041 - val_accuracy: 0.9315\n",
            "Epoch 29/1000\n",
            "19/29 [==================>...........] - ETA: 0s - loss: 0.6882 - accuracy: 0.7105\n",
            "Epoch 29: saving model to model/keypoint_classifier\\keypoint_classifier.hdf5\n",
            "29/29 [==============================] - 0s 5ms/step - loss: 0.6855 - accuracy: 0.7170 - val_loss: 0.3867 - val_accuracy: 0.9373\n",
            "Epoch 30/1000\n",
            "19/29 [==================>...........] - ETA: 0s - loss: 0.6958 - accuracy: 0.7146\n",
            "Epoch 30: saving model to model/keypoint_classifier\\keypoint_classifier.hdf5\n",
            "29/29 [==============================] - 0s 5ms/step - loss: 0.6931 - accuracy: 0.7175 - val_loss: 0.3802 - val_accuracy: 0.9407\n",
            "Epoch 31/1000\n",
            "19/29 [==================>...........] - ETA: 0s - loss: 0.6795 - accuracy: 0.7253\n",
            "Epoch 31: saving model to model/keypoint_classifier\\keypoint_classifier.hdf5\n",
            "29/29 [==============================] - 0s 5ms/step - loss: 0.6742 - accuracy: 0.7262 - val_loss: 0.3718 - val_accuracy: 0.9382\n",
            "Epoch 32/1000\n",
            "19/29 [==================>...........] - ETA: 0s - loss: 0.6609 - accuracy: 0.7340\n",
            "Epoch 32: saving model to model/keypoint_classifier\\keypoint_classifier.hdf5\n",
            "29/29 [==============================] - 0s 5ms/step - loss: 0.6531 - accuracy: 0.7376 - val_loss: 0.3638 - val_accuracy: 0.9373\n",
            "Epoch 33/1000\n",
            "18/29 [=================>............] - ETA: 0s - loss: 0.6754 - accuracy: 0.7300\n",
            "Epoch 33: saving model to model/keypoint_classifier\\keypoint_classifier.hdf5\n",
            "29/29 [==============================] - 0s 5ms/step - loss: 0.6693 - accuracy: 0.7295 - val_loss: 0.3569 - val_accuracy: 0.9407\n",
            "Epoch 34/1000\n",
            "20/29 [===================>..........] - ETA: 0s - loss: 0.6508 - accuracy: 0.7422\n",
            "Epoch 34: saving model to model/keypoint_classifier\\keypoint_classifier.hdf5\n",
            "29/29 [==============================] - 0s 5ms/step - loss: 0.6522 - accuracy: 0.7382 - val_loss: 0.3459 - val_accuracy: 0.9407\n",
            "Epoch 35/1000\n",
            "19/29 [==================>...........] - ETA: 0s - loss: 0.6514 - accuracy: 0.7368\n",
            "Epoch 35: saving model to model/keypoint_classifier\\keypoint_classifier.hdf5\n",
            "29/29 [==============================] - 0s 5ms/step - loss: 0.6495 - accuracy: 0.7435 - val_loss: 0.3367 - val_accuracy: 0.9440\n",
            "Epoch 36/1000\n",
            "19/29 [==================>...........] - ETA: 0s - loss: 0.6558 - accuracy: 0.7340\n",
            "Epoch 36: saving model to model/keypoint_classifier\\keypoint_classifier.hdf5\n",
            "29/29 [==============================] - 0s 5ms/step - loss: 0.6371 - accuracy: 0.7465 - val_loss: 0.3283 - val_accuracy: 0.9449\n",
            "Epoch 37/1000\n",
            "19/29 [==================>...........] - ETA: 0s - loss: 0.6538 - accuracy: 0.7294\n",
            "Epoch 37: saving model to model/keypoint_classifier\\keypoint_classifier.hdf5\n",
            "29/29 [==============================] - 0s 5ms/step - loss: 0.6451 - accuracy: 0.7359 - val_loss: 0.3218 - val_accuracy: 0.9499\n",
            "Epoch 38/1000\n",
            "19/29 [==================>...........] - ETA: 0s - loss: 0.6080 - accuracy: 0.7574\n",
            "Epoch 38: saving model to model/keypoint_classifier\\keypoint_classifier.hdf5\n",
            "29/29 [==============================] - 0s 5ms/step - loss: 0.6146 - accuracy: 0.7529 - val_loss: 0.3172 - val_accuracy: 0.9424\n",
            "Epoch 39/1000\n",
            "20/29 [===================>..........] - ETA: 0s - loss: 0.6305 - accuracy: 0.7449\n",
            "Epoch 39: saving model to model/keypoint_classifier\\keypoint_classifier.hdf5\n",
            "29/29 [==============================] - 0s 5ms/step - loss: 0.6253 - accuracy: 0.7490 - val_loss: 0.3075 - val_accuracy: 0.9474\n",
            "Epoch 40/1000\n",
            "19/29 [==================>...........] - ETA: 0s - loss: 0.6194 - accuracy: 0.7488\n",
            "Epoch 40: saving model to model/keypoint_classifier\\keypoint_classifier.hdf5\n",
            "29/29 [==============================] - 0s 5ms/step - loss: 0.6140 - accuracy: 0.7577 - val_loss: 0.3023 - val_accuracy: 0.9474\n",
            "Epoch 41/1000\n",
            "15/29 [==============>...............] - ETA: 0s - loss: 0.6168 - accuracy: 0.7531\n",
            "Epoch 41: saving model to model/keypoint_classifier\\keypoint_classifier.hdf5\n",
            "29/29 [==============================] - 0s 5ms/step - loss: 0.6136 - accuracy: 0.7546 - val_loss: 0.2988 - val_accuracy: 0.9465\n",
            "Epoch 42/1000\n",
            "18/29 [=================>............] - ETA: 0s - loss: 0.6055 - accuracy: 0.7626\n",
            "Epoch 42: saving model to model/keypoint_classifier\\keypoint_classifier.hdf5\n",
            "29/29 [==============================] - 0s 5ms/step - loss: 0.6081 - accuracy: 0.7565 - val_loss: 0.2976 - val_accuracy: 0.9457\n",
            "Epoch 43/1000\n",
            "20/29 [===================>..........] - ETA: 0s - loss: 0.6001 - accuracy: 0.7570\n",
            "Epoch 43: saving model to model/keypoint_classifier\\keypoint_classifier.hdf5\n",
            "29/29 [==============================] - 0s 5ms/step - loss: 0.5946 - accuracy: 0.7618 - val_loss: 0.2934 - val_accuracy: 0.9457\n",
            "Epoch 44/1000\n",
            "19/29 [==================>...........] - ETA: 0s - loss: 0.5990 - accuracy: 0.7648\n",
            "Epoch 44: saving model to model/keypoint_classifier\\keypoint_classifier.hdf5\n",
            "29/29 [==============================] - 0s 5ms/step - loss: 0.5951 - accuracy: 0.7655 - val_loss: 0.2890 - val_accuracy: 0.9449\n",
            "Epoch 45/1000\n",
            "18/29 [=================>............] - ETA: 0s - loss: 0.6055 - accuracy: 0.7574\n",
            "Epoch 45: saving model to model/keypoint_classifier\\keypoint_classifier.hdf5\n",
            "29/29 [==============================] - 0s 5ms/step - loss: 0.5930 - accuracy: 0.7643 - val_loss: 0.2897 - val_accuracy: 0.9465\n",
            "Epoch 46/1000\n",
            "19/29 [==================>...........] - ETA: 0s - loss: 0.5698 - accuracy: 0.7743\n",
            "Epoch 46: saving model to model/keypoint_classifier\\keypoint_classifier.hdf5\n",
            "29/29 [==============================] - 0s 5ms/step - loss: 0.5806 - accuracy: 0.7705 - val_loss: 0.2799 - val_accuracy: 0.9474\n",
            "Epoch 47/1000\n",
            "19/29 [==================>...........] - ETA: 0s - loss: 0.5739 - accuracy: 0.7747\n",
            "Epoch 47: saving model to model/keypoint_classifier\\keypoint_classifier.hdf5\n",
            "29/29 [==============================] - 0s 5ms/step - loss: 0.5933 - accuracy: 0.7671 - val_loss: 0.2745 - val_accuracy: 0.9449\n",
            "Epoch 48/1000\n",
            "18/29 [=================>............] - ETA: 0s - loss: 0.5585 - accuracy: 0.7795\n",
            "Epoch 48: saving model to model/keypoint_classifier\\keypoint_classifier.hdf5\n",
            "29/29 [==============================] - 0s 5ms/step - loss: 0.5762 - accuracy: 0.7716 - val_loss: 0.2746 - val_accuracy: 0.9449\n",
            "Epoch 49/1000\n",
            "19/29 [==================>...........] - ETA: 0s - loss: 0.5733 - accuracy: 0.7784\n",
            "Epoch 49: saving model to model/keypoint_classifier\\keypoint_classifier.hdf5\n",
            "29/29 [==============================] - 0s 5ms/step - loss: 0.5796 - accuracy: 0.7769 - val_loss: 0.2716 - val_accuracy: 0.9465\n",
            "Epoch 50/1000\n",
            "19/29 [==================>...........] - ETA: 0s - loss: 0.6016 - accuracy: 0.7652\n",
            "Epoch 50: saving model to model/keypoint_classifier\\keypoint_classifier.hdf5\n",
            "29/29 [==============================] - 0s 5ms/step - loss: 0.5818 - accuracy: 0.7688 - val_loss: 0.2731 - val_accuracy: 0.9490\n",
            "Epoch 51/1000\n",
            "19/29 [==================>...........] - ETA: 0s - loss: 0.5687 - accuracy: 0.7800\n",
            "Epoch 51: saving model to model/keypoint_classifier\\keypoint_classifier.hdf5\n",
            "29/29 [==============================] - 0s 5ms/step - loss: 0.5825 - accuracy: 0.7677 - val_loss: 0.2640 - val_accuracy: 0.9499\n",
            "Epoch 52/1000\n",
            "19/29 [==================>...........] - ETA: 0s - loss: 0.5671 - accuracy: 0.7804\n",
            "Epoch 52: saving model to model/keypoint_classifier\\keypoint_classifier.hdf5\n",
            "29/29 [==============================] - 0s 5ms/step - loss: 0.5651 - accuracy: 0.7763 - val_loss: 0.2586 - val_accuracy: 0.9549\n",
            "Epoch 53/1000\n",
            "19/29 [==================>...........] - ETA: 0s - loss: 0.5507 - accuracy: 0.7825\n",
            "Epoch 53: saving model to model/keypoint_classifier\\keypoint_classifier.hdf5\n",
            "29/29 [==============================] - 0s 5ms/step - loss: 0.5521 - accuracy: 0.7847 - val_loss: 0.2561 - val_accuracy: 0.9490\n",
            "Epoch 54/1000\n",
            "18/29 [=================>............] - ETA: 0s - loss: 0.5884 - accuracy: 0.7652\n",
            "Epoch 54: saving model to model/keypoint_classifier\\keypoint_classifier.hdf5\n",
            "29/29 [==============================] - 0s 5ms/step - loss: 0.5863 - accuracy: 0.7710 - val_loss: 0.2608 - val_accuracy: 0.9482\n",
            "Epoch 55/1000\n",
            "19/29 [==================>...........] - ETA: 0s - loss: 0.5461 - accuracy: 0.7771\n",
            "Epoch 55: saving model to model/keypoint_classifier\\keypoint_classifier.hdf5\n",
            "29/29 [==============================] - 0s 5ms/step - loss: 0.5504 - accuracy: 0.7825 - val_loss: 0.2495 - val_accuracy: 0.9499\n",
            "Epoch 56/1000\n",
            "19/29 [==================>...........] - ETA: 0s - loss: 0.5548 - accuracy: 0.7817\n",
            "Epoch 56: saving model to model/keypoint_classifier\\keypoint_classifier.hdf5\n",
            "29/29 [==============================] - 0s 5ms/step - loss: 0.5576 - accuracy: 0.7763 - val_loss: 0.2457 - val_accuracy: 0.9457\n",
            "Epoch 57/1000\n",
            "19/29 [==================>...........] - ETA: 0s - loss: 0.5738 - accuracy: 0.7788\n",
            "Epoch 57: saving model to model/keypoint_classifier\\keypoint_classifier.hdf5\n",
            "29/29 [==============================] - 0s 5ms/step - loss: 0.5733 - accuracy: 0.7808 - val_loss: 0.2456 - val_accuracy: 0.9499\n",
            "Epoch 58/1000\n",
            "18/29 [=================>............] - ETA: 0s - loss: 0.5583 - accuracy: 0.7891\n",
            "Epoch 58: saving model to model/keypoint_classifier\\keypoint_classifier.hdf5\n",
            "29/29 [==============================] - 0s 5ms/step - loss: 0.5489 - accuracy: 0.7903 - val_loss: 0.2464 - val_accuracy: 0.9524\n",
            "Epoch 59/1000\n",
            "19/29 [==================>...........] - ETA: 0s - loss: 0.5301 - accuracy: 0.7985\n",
            "Epoch 59: saving model to model/keypoint_classifier\\keypoint_classifier.hdf5\n",
            "29/29 [==============================] - 0s 5ms/step - loss: 0.5387 - accuracy: 0.7930 - val_loss: 0.2358 - val_accuracy: 0.9549\n",
            "Epoch 60/1000\n",
            "19/29 [==================>...........] - ETA: 0s - loss: 0.5561 - accuracy: 0.7796\n",
            "Epoch 60: saving model to model/keypoint_classifier\\keypoint_classifier.hdf5\n",
            "29/29 [==============================] - 0s 5ms/step - loss: 0.5484 - accuracy: 0.7838 - val_loss: 0.2376 - val_accuracy: 0.9515\n",
            "Epoch 61/1000\n",
            "17/29 [================>.............] - ETA: 0s - loss: 0.5426 - accuracy: 0.7891\n",
            "Epoch 61: saving model to model/keypoint_classifier\\keypoint_classifier.hdf5\n",
            "29/29 [==============================] - 0s 5ms/step - loss: 0.5380 - accuracy: 0.7883 - val_loss: 0.2356 - val_accuracy: 0.9507\n",
            "Epoch 62/1000\n",
            "19/29 [==================>...........] - ETA: 0s - loss: 0.5194 - accuracy: 0.8018\n",
            "Epoch 62: saving model to model/keypoint_classifier\\keypoint_classifier.hdf5\n",
            "29/29 [==============================] - 0s 5ms/step - loss: 0.5163 - accuracy: 0.8031 - val_loss: 0.2263 - val_accuracy: 0.9515\n",
            "Epoch 63/1000\n",
            "20/29 [===================>..........] - ETA: 0s - loss: 0.5657 - accuracy: 0.7832\n",
            "Epoch 63: saving model to model/keypoint_classifier\\keypoint_classifier.hdf5\n",
            "29/29 [==============================] - 0s 5ms/step - loss: 0.5580 - accuracy: 0.7825 - val_loss: 0.2271 - val_accuracy: 0.9490\n",
            "Epoch 64/1000\n",
            "19/29 [==================>...........] - ETA: 0s - loss: 0.5406 - accuracy: 0.7899\n",
            "Epoch 64: saving model to model/keypoint_classifier\\keypoint_classifier.hdf5\n",
            "29/29 [==============================] - 0s 5ms/step - loss: 0.5374 - accuracy: 0.7944 - val_loss: 0.2277 - val_accuracy: 0.9507\n",
            "Epoch 65/1000\n",
            "19/29 [==================>...........] - ETA: 0s - loss: 0.5347 - accuracy: 0.7932\n",
            "Epoch 65: saving model to model/keypoint_classifier\\keypoint_classifier.hdf5\n",
            "29/29 [==============================] - 0s 5ms/step - loss: 0.5432 - accuracy: 0.7911 - val_loss: 0.2378 - val_accuracy: 0.9449\n",
            "Epoch 66/1000\n",
            "19/29 [==================>...........] - ETA: 0s - loss: 0.5422 - accuracy: 0.7915\n",
            "Epoch 66: saving model to model/keypoint_classifier\\keypoint_classifier.hdf5\n",
            "29/29 [==============================] - 0s 5ms/step - loss: 0.5445 - accuracy: 0.7880 - val_loss: 0.2321 - val_accuracy: 0.9482\n",
            "Epoch 67/1000\n",
            "19/29 [==================>...........] - ETA: 0s - loss: 0.5441 - accuracy: 0.7903\n",
            "Epoch 67: saving model to model/keypoint_classifier\\keypoint_classifier.hdf5\n",
            "29/29 [==============================] - 0s 5ms/step - loss: 0.5459 - accuracy: 0.7911 - val_loss: 0.2301 - val_accuracy: 0.9515\n",
            "Epoch 68/1000\n",
            "29/29 [==============================] - ETA: 0s - loss: 0.5244 - accuracy: 0.7981\n",
            "Epoch 68: saving model to model/keypoint_classifier\\keypoint_classifier.hdf5\n",
            "29/29 [==============================] - 0s 6ms/step - loss: 0.5244 - accuracy: 0.7981 - val_loss: 0.2237 - val_accuracy: 0.9532\n",
            "Epoch 69/1000\n",
            "20/29 [===================>..........] - ETA: 0s - loss: 0.5246 - accuracy: 0.7922\n",
            "Epoch 69: saving model to model/keypoint_classifier\\keypoint_classifier.hdf5\n",
            "29/29 [==============================] - 0s 5ms/step - loss: 0.5254 - accuracy: 0.7947 - val_loss: 0.2306 - val_accuracy: 0.9490\n",
            "Epoch 70/1000\n",
            "19/29 [==================>...........] - ETA: 0s - loss: 0.5509 - accuracy: 0.7895\n",
            "Epoch 70: saving model to model/keypoint_classifier\\keypoint_classifier.hdf5\n",
            "29/29 [==============================] - 0s 5ms/step - loss: 0.5427 - accuracy: 0.7964 - val_loss: 0.2272 - val_accuracy: 0.9515\n",
            "Epoch 71/1000\n",
            "19/29 [==================>...........] - ETA: 0s - loss: 0.5427 - accuracy: 0.7874\n",
            "Epoch 71: saving model to model/keypoint_classifier\\keypoint_classifier.hdf5\n",
            "29/29 [==============================] - 0s 5ms/step - loss: 0.5417 - accuracy: 0.7875 - val_loss: 0.2290 - val_accuracy: 0.9557\n",
            "Epoch 72/1000\n",
            "19/29 [==================>...........] - ETA: 0s - loss: 0.5454 - accuracy: 0.7944\n",
            "Epoch 72: saving model to model/keypoint_classifier\\keypoint_classifier.hdf5\n",
            "29/29 [==============================] - 0s 5ms/step - loss: 0.5420 - accuracy: 0.7947 - val_loss: 0.2282 - val_accuracy: 0.9532\n",
            "Epoch 73/1000\n",
            "19/29 [==================>...........] - ETA: 0s - loss: 0.5191 - accuracy: 0.8018\n",
            "Epoch 73: saving model to model/keypoint_classifier\\keypoint_classifier.hdf5\n",
            "29/29 [==============================] - 0s 5ms/step - loss: 0.5361 - accuracy: 0.7967 - val_loss: 0.2344 - val_accuracy: 0.9549\n",
            "Epoch 74/1000\n",
            "19/29 [==================>...........] - ETA: 0s - loss: 0.5425 - accuracy: 0.7866\n",
            "Epoch 74: saving model to model/keypoint_classifier\\keypoint_classifier.hdf5\n",
            "29/29 [==============================] - 0s 5ms/step - loss: 0.5420 - accuracy: 0.7861 - val_loss: 0.2297 - val_accuracy: 0.9541\n",
            "Epoch 75/1000\n",
            "19/29 [==================>...........] - ETA: 0s - loss: 0.5532 - accuracy: 0.7882\n",
            "Epoch 75: saving model to model/keypoint_classifier\\keypoint_classifier.hdf5\n",
            "29/29 [==============================] - 0s 5ms/step - loss: 0.5484 - accuracy: 0.7916 - val_loss: 0.2318 - val_accuracy: 0.9557\n",
            "Epoch 76/1000\n",
            "18/29 [=================>............] - ETA: 0s - loss: 0.5376 - accuracy: 0.7960\n",
            "Epoch 76: saving model to model/keypoint_classifier\\keypoint_classifier.hdf5\n",
            "29/29 [==============================] - 0s 5ms/step - loss: 0.5287 - accuracy: 0.7939 - val_loss: 0.2377 - val_accuracy: 0.9524\n",
            "Epoch 77/1000\n",
            "19/29 [==================>...........] - ETA: 0s - loss: 0.5561 - accuracy: 0.7907\n",
            "Epoch 77: saving model to model/keypoint_classifier\\keypoint_classifier.hdf5\n",
            "29/29 [==============================] - 0s 5ms/step - loss: 0.5642 - accuracy: 0.7850 - val_loss: 0.2314 - val_accuracy: 0.9549\n",
            "Epoch 78/1000\n",
            "19/29 [==================>...........] - ETA: 0s - loss: 0.5262 - accuracy: 0.7961\n",
            "Epoch 78: saving model to model/keypoint_classifier\\keypoint_classifier.hdf5\n",
            "29/29 [==============================] - 0s 5ms/step - loss: 0.5029 - accuracy: 0.8075 - val_loss: 0.2268 - val_accuracy: 0.9591\n",
            "Epoch 79/1000\n",
            "18/29 [=================>............] - ETA: 0s - loss: 0.5225 - accuracy: 0.7934\n",
            "Epoch 79: saving model to model/keypoint_classifier\\keypoint_classifier.hdf5\n",
            "29/29 [==============================] - 0s 5ms/step - loss: 0.5194 - accuracy: 0.7961 - val_loss: 0.2198 - val_accuracy: 0.9574\n",
            "Epoch 80/1000\n",
            "19/29 [==================>...........] - ETA: 0s - loss: 0.5255 - accuracy: 0.7977\n",
            "Epoch 80: saving model to model/keypoint_classifier\\keypoint_classifier.hdf5\n",
            "29/29 [==============================] - 0s 5ms/step - loss: 0.5174 - accuracy: 0.8017 - val_loss: 0.2221 - val_accuracy: 0.9599\n",
            "Epoch 81/1000\n",
            "18/29 [=================>............] - ETA: 0s - loss: 0.5159 - accuracy: 0.7951\n",
            "Epoch 81: saving model to model/keypoint_classifier\\keypoint_classifier.hdf5\n",
            "29/29 [==============================] - 0s 5ms/step - loss: 0.5201 - accuracy: 0.7916 - val_loss: 0.2177 - val_accuracy: 0.9582\n",
            "Epoch 82/1000\n",
            "20/29 [===================>..........] - ETA: 0s - loss: 0.5261 - accuracy: 0.7906\n",
            "Epoch 82: saving model to model/keypoint_classifier\\keypoint_classifier.hdf5\n",
            "29/29 [==============================] - 0s 5ms/step - loss: 0.5144 - accuracy: 0.7978 - val_loss: 0.2156 - val_accuracy: 0.9566\n",
            "Epoch 83/1000\n",
            "19/29 [==================>...........] - ETA: 0s - loss: 0.5138 - accuracy: 0.8043\n",
            "Epoch 83: saving model to model/keypoint_classifier\\keypoint_classifier.hdf5\n",
            "29/29 [==============================] - 0s 5ms/step - loss: 0.5115 - accuracy: 0.8006 - val_loss: 0.2168 - val_accuracy: 0.9541\n",
            "Epoch 84/1000\n",
            "19/29 [==================>...........] - ETA: 0s - loss: 0.4956 - accuracy: 0.8096\n",
            "Epoch 84: saving model to model/keypoint_classifier\\keypoint_classifier.hdf5\n",
            "29/29 [==============================] - 0s 5ms/step - loss: 0.5004 - accuracy: 0.8095 - val_loss: 0.2124 - val_accuracy: 0.9541\n",
            "Epoch 85/1000\n",
            "18/29 [=================>............] - ETA: 0s - loss: 0.5169 - accuracy: 0.8021\n",
            "Epoch 85: saving model to model/keypoint_classifier\\keypoint_classifier.hdf5\n",
            "29/29 [==============================] - 0s 5ms/step - loss: 0.5201 - accuracy: 0.8017 - val_loss: 0.2115 - val_accuracy: 0.9549\n",
            "Epoch 86/1000\n",
            "19/29 [==================>...........] - ETA: 0s - loss: 0.5122 - accuracy: 0.7993\n",
            "Epoch 86: saving model to model/keypoint_classifier\\keypoint_classifier.hdf5\n",
            "29/29 [==============================] - 0s 5ms/step - loss: 0.5067 - accuracy: 0.8058 - val_loss: 0.2077 - val_accuracy: 0.9607\n",
            "Epoch 87/1000\n",
            "20/29 [===================>..........] - ETA: 0s - loss: 0.5261 - accuracy: 0.7910\n",
            "Epoch 87: saving model to model/keypoint_classifier\\keypoint_classifier.hdf5\n",
            "29/29 [==============================] - 0s 5ms/step - loss: 0.5120 - accuracy: 0.7992 - val_loss: 0.2090 - val_accuracy: 0.9607\n",
            "Epoch 88/1000\n",
            "17/29 [================>.............] - ETA: 0s - loss: 0.5261 - accuracy: 0.8019\n",
            "Epoch 88: saving model to model/keypoint_classifier\\keypoint_classifier.hdf5\n",
            "29/29 [==============================] - 0s 5ms/step - loss: 0.5422 - accuracy: 0.7939 - val_loss: 0.2158 - val_accuracy: 0.9591\n",
            "Epoch 89/1000\n",
            "18/29 [=================>............] - ETA: 0s - loss: 0.5081 - accuracy: 0.8095\n",
            "Epoch 89: saving model to model/keypoint_classifier\\keypoint_classifier.hdf5\n",
            "29/29 [==============================] - 0s 5ms/step - loss: 0.5133 - accuracy: 0.8025 - val_loss: 0.2154 - val_accuracy: 0.9607\n",
            "Epoch 90/1000\n",
            "16/29 [===============>..............] - ETA: 0s - loss: 0.5048 - accuracy: 0.8169\n",
            "Epoch 90: saving model to model/keypoint_classifier\\keypoint_classifier.hdf5\n",
            "29/29 [==============================] - 0s 6ms/step - loss: 0.5036 - accuracy: 0.8134 - val_loss: 0.2102 - val_accuracy: 0.9607\n",
            "Epoch 91/1000\n",
            "24/29 [=======================>......] - ETA: 0s - loss: 0.5148 - accuracy: 0.8060\n",
            "Epoch 91: saving model to model/keypoint_classifier\\keypoint_classifier.hdf5\n",
            "29/29 [==============================] - 0s 7ms/step - loss: 0.5167 - accuracy: 0.8031 - val_loss: 0.2118 - val_accuracy: 0.9549\n",
            "Epoch 92/1000\n",
            "28/29 [===========================>..] - ETA: 0s - loss: 0.4842 - accuracy: 0.8105\n",
            "Epoch 92: saving model to model/keypoint_classifier\\keypoint_classifier.hdf5\n",
            "29/29 [==============================] - 0s 6ms/step - loss: 0.4840 - accuracy: 0.8106 - val_loss: 0.2048 - val_accuracy: 0.9582\n",
            "Epoch 93/1000\n",
            "25/29 [========================>.....] - ETA: 0s - loss: 0.5175 - accuracy: 0.8006\n",
            "Epoch 93: saving model to model/keypoint_classifier\\keypoint_classifier.hdf5\n",
            "29/29 [==============================] - 0s 7ms/step - loss: 0.5086 - accuracy: 0.8045 - val_loss: 0.2028 - val_accuracy: 0.9632\n",
            "Epoch 94/1000\n",
            "27/29 [==========================>...] - ETA: 0s - loss: 0.5173 - accuracy: 0.8021\n",
            "Epoch 94: saving model to model/keypoint_classifier\\keypoint_classifier.hdf5\n",
            "29/29 [==============================] - 0s 7ms/step - loss: 0.5166 - accuracy: 0.8033 - val_loss: 0.2088 - val_accuracy: 0.9616\n",
            "Epoch 95/1000\n",
            "28/29 [===========================>..] - ETA: 0s - loss: 0.5004 - accuracy: 0.8131\n",
            "Epoch 95: saving model to model/keypoint_classifier\\keypoint_classifier.hdf5\n",
            "29/29 [==============================] - 0s 6ms/step - loss: 0.5004 - accuracy: 0.8131 - val_loss: 0.2028 - val_accuracy: 0.9624\n",
            "Epoch 96/1000\n",
            "17/29 [================>.............] - ETA: 0s - loss: 0.5043 - accuracy: 0.8024\n",
            "Epoch 96: saving model to model/keypoint_classifier\\keypoint_classifier.hdf5\n",
            "29/29 [==============================] - 0s 5ms/step - loss: 0.5087 - accuracy: 0.8006 - val_loss: 0.2057 - val_accuracy: 0.9599\n",
            "Epoch 97/1000\n",
            "17/29 [================>.............] - ETA: 0s - loss: 0.5046 - accuracy: 0.7983\n",
            "Epoch 97: saving model to model/keypoint_classifier\\keypoint_classifier.hdf5\n",
            "29/29 [==============================] - 0s 5ms/step - loss: 0.5061 - accuracy: 0.7953 - val_loss: 0.2078 - val_accuracy: 0.9599\n",
            "Epoch 98/1000\n",
            "19/29 [==================>...........] - ETA: 0s - loss: 0.4879 - accuracy: 0.8158\n",
            "Epoch 98: saving model to model/keypoint_classifier\\keypoint_classifier.hdf5\n",
            "29/29 [==============================] - 0s 5ms/step - loss: 0.4928 - accuracy: 0.8148 - val_loss: 0.2038 - val_accuracy: 0.9632\n",
            "Epoch 99/1000\n",
            "16/29 [===============>..............] - ETA: 0s - loss: 0.4903 - accuracy: 0.8140\n",
            "Epoch 99: saving model to model/keypoint_classifier\\keypoint_classifier.hdf5\n",
            "29/29 [==============================] - 0s 6ms/step - loss: 0.4844 - accuracy: 0.8164 - val_loss: 0.1959 - val_accuracy: 0.9641\n",
            "Epoch 100/1000\n",
            "15/29 [==============>...............] - ETA: 0s - loss: 0.4822 - accuracy: 0.8115\n",
            "Epoch 100: saving model to model/keypoint_classifier\\keypoint_classifier.hdf5\n",
            "29/29 [==============================] - 0s 6ms/step - loss: 0.4970 - accuracy: 0.8097 - val_loss: 0.1965 - val_accuracy: 0.9591\n",
            "Epoch 101/1000\n",
            "28/29 [===========================>..] - ETA: 0s - loss: 0.4961 - accuracy: 0.8150\n",
            "Epoch 101: saving model to model/keypoint_classifier\\keypoint_classifier.hdf5\n",
            "29/29 [==============================] - 0s 9ms/step - loss: 0.4960 - accuracy: 0.8150 - val_loss: 0.1938 - val_accuracy: 0.9641\n",
            "Epoch 102/1000\n",
            "29/29 [==============================] - ETA: 0s - loss: 0.4914 - accuracy: 0.8092\n",
            "Epoch 102: saving model to model/keypoint_classifier\\keypoint_classifier.hdf5\n",
            "29/29 [==============================] - 0s 7ms/step - loss: 0.4914 - accuracy: 0.8092 - val_loss: 0.1926 - val_accuracy: 0.9599\n",
            "Epoch 103/1000\n",
            "25/29 [========================>.....] - ETA: 0s - loss: 0.4695 - accuracy: 0.8213\n",
            "Epoch 103: saving model to model/keypoint_classifier\\keypoint_classifier.hdf5\n",
            "29/29 [==============================] - 0s 7ms/step - loss: 0.4809 - accuracy: 0.8170 - val_loss: 0.1870 - val_accuracy: 0.9657\n",
            "Epoch 104/1000\n",
            "28/29 [===========================>..] - ETA: 0s - loss: 0.5099 - accuracy: 0.8094\n",
            "Epoch 104: saving model to model/keypoint_classifier\\keypoint_classifier.hdf5\n",
            "29/29 [==============================] - 0s 7ms/step - loss: 0.5101 - accuracy: 0.8095 - val_loss: 0.1915 - val_accuracy: 0.9657\n",
            "Epoch 105/1000\n",
            "17/29 [================>.............] - ETA: 0s - loss: 0.4922 - accuracy: 0.8107\n",
            "Epoch 105: saving model to model/keypoint_classifier\\keypoint_classifier.hdf5\n",
            "29/29 [==============================] - 0s 5ms/step - loss: 0.4795 - accuracy: 0.8167 - val_loss: 0.1972 - val_accuracy: 0.9574\n",
            "Epoch 106/1000\n",
            "15/29 [==============>...............] - ETA: 0s - loss: 0.4946 - accuracy: 0.8099\n",
            "Epoch 106: saving model to model/keypoint_classifier\\keypoint_classifier.hdf5\n",
            "29/29 [==============================] - 0s 6ms/step - loss: 0.4932 - accuracy: 0.8136 - val_loss: 0.1966 - val_accuracy: 0.9641\n",
            "Epoch 107/1000\n",
            "15/29 [==============>...............] - ETA: 0s - loss: 0.5003 - accuracy: 0.8021\n",
            "Epoch 107: saving model to model/keypoint_classifier\\keypoint_classifier.hdf5\n",
            "29/29 [==============================] - 0s 6ms/step - loss: 0.5005 - accuracy: 0.8072 - val_loss: 0.1912 - val_accuracy: 0.9632\n",
            "Epoch 108/1000\n",
            "15/29 [==============>...............] - ETA: 0s - loss: 0.5085 - accuracy: 0.8115\n",
            "Epoch 108: saving model to model/keypoint_classifier\\keypoint_classifier.hdf5\n",
            "29/29 [==============================] - 0s 6ms/step - loss: 0.4948 - accuracy: 0.8131 - val_loss: 0.1970 - val_accuracy: 0.9599\n",
            "Epoch 109/1000\n",
            "29/29 [==============================] - ETA: 0s - loss: 0.4963 - accuracy: 0.8072\n",
            "Epoch 109: saving model to model/keypoint_classifier\\keypoint_classifier.hdf5\n",
            "29/29 [==============================] - 0s 6ms/step - loss: 0.4963 - accuracy: 0.8072 - val_loss: 0.1980 - val_accuracy: 0.9607\n",
            "Epoch 110/1000\n",
            "27/29 [==========================>...] - ETA: 0s - loss: 0.5028 - accuracy: 0.8032\n",
            "Epoch 110: saving model to model/keypoint_classifier\\keypoint_classifier.hdf5\n",
            "29/29 [==============================] - 0s 6ms/step - loss: 0.5029 - accuracy: 0.8036 - val_loss: 0.1947 - val_accuracy: 0.9674\n",
            "Epoch 111/1000\n",
            "18/29 [=================>............] - ETA: 0s - loss: 0.4960 - accuracy: 0.8108\n",
            "Epoch 111: saving model to model/keypoint_classifier\\keypoint_classifier.hdf5\n",
            "29/29 [==============================] - 0s 5ms/step - loss: 0.4859 - accuracy: 0.8170 - val_loss: 0.2029 - val_accuracy: 0.9657\n",
            "Epoch 112/1000\n",
            "17/29 [================>.............] - ETA: 0s - loss: 0.4601 - accuracy: 0.8277\n",
            "Epoch 112: saving model to model/keypoint_classifier\\keypoint_classifier.hdf5\n",
            "29/29 [==============================] - 0s 5ms/step - loss: 0.4713 - accuracy: 0.8217 - val_loss: 0.1951 - val_accuracy: 0.9574\n",
            "Epoch 113/1000\n",
            "18/29 [=================>............] - ETA: 0s - loss: 0.4549 - accuracy: 0.8229\n",
            "Epoch 113: saving model to model/keypoint_classifier\\keypoint_classifier.hdf5\n",
            "29/29 [==============================] - 0s 5ms/step - loss: 0.4721 - accuracy: 0.8134 - val_loss: 0.1929 - val_accuracy: 0.9582\n",
            "Epoch 114/1000\n",
            "17/29 [================>.............] - ETA: 0s - loss: 0.4517 - accuracy: 0.8281\n",
            "Epoch 114: saving model to model/keypoint_classifier\\keypoint_classifier.hdf5\n",
            "29/29 [==============================] - 0s 5ms/step - loss: 0.4621 - accuracy: 0.8242 - val_loss: 0.1873 - val_accuracy: 0.9624\n",
            "Epoch 115/1000\n",
            "18/29 [=================>............] - ETA: 0s - loss: 0.4792 - accuracy: 0.8247\n",
            "Epoch 115: saving model to model/keypoint_classifier\\keypoint_classifier.hdf5\n",
            "29/29 [==============================] - 0s 5ms/step - loss: 0.4876 - accuracy: 0.8128 - val_loss: 0.1970 - val_accuracy: 0.9632\n",
            "Epoch 116/1000\n",
            "18/29 [=================>............] - ETA: 0s - loss: 0.4934 - accuracy: 0.8121\n",
            "Epoch 116: saving model to model/keypoint_classifier\\keypoint_classifier.hdf5\n",
            "29/29 [==============================] - 0s 5ms/step - loss: 0.4813 - accuracy: 0.8125 - val_loss: 0.1912 - val_accuracy: 0.9649\n",
            "Epoch 117/1000\n",
            "19/29 [==================>...........] - ETA: 0s - loss: 0.4916 - accuracy: 0.8174\n",
            "Epoch 117: saving model to model/keypoint_classifier\\keypoint_classifier.hdf5\n",
            "29/29 [==============================] - 0s 5ms/step - loss: 0.4772 - accuracy: 0.8206 - val_loss: 0.1893 - val_accuracy: 0.9607\n",
            "Epoch 118/1000\n",
            "18/29 [=================>............] - ETA: 0s - loss: 0.4780 - accuracy: 0.8203\n",
            "Epoch 118: saving model to model/keypoint_classifier\\keypoint_classifier.hdf5\n",
            "29/29 [==============================] - 0s 5ms/step - loss: 0.4810 - accuracy: 0.8217 - val_loss: 0.1880 - val_accuracy: 0.9666\n",
            "Epoch 119/1000\n",
            "17/29 [================>.............] - ETA: 0s - loss: 0.4860 - accuracy: 0.8093\n",
            "Epoch 119: saving model to model/keypoint_classifier\\keypoint_classifier.hdf5\n",
            "29/29 [==============================] - 0s 5ms/step - loss: 0.4826 - accuracy: 0.8128 - val_loss: 0.1845 - val_accuracy: 0.9641\n",
            "Epoch 120/1000\n",
            "19/29 [==================>...........] - ETA: 0s - loss: 0.4811 - accuracy: 0.8178\n",
            "Epoch 120: saving model to model/keypoint_classifier\\keypoint_classifier.hdf5\n",
            "29/29 [==============================] - 0s 5ms/step - loss: 0.4849 - accuracy: 0.8181 - val_loss: 0.1826 - val_accuracy: 0.9666\n",
            "Epoch 121/1000\n",
            "18/29 [=================>............] - ETA: 0s - loss: 0.4607 - accuracy: 0.8247\n",
            "Epoch 121: saving model to model/keypoint_classifier\\keypoint_classifier.hdf5\n",
            "29/29 [==============================] - 0s 5ms/step - loss: 0.4849 - accuracy: 0.8162 - val_loss: 0.1870 - val_accuracy: 0.9641\n",
            "Epoch 122/1000\n",
            "18/29 [=================>............] - ETA: 0s - loss: 0.4891 - accuracy: 0.8125\n",
            "Epoch 122: saving model to model/keypoint_classifier\\keypoint_classifier.hdf5\n",
            "29/29 [==============================] - 0s 5ms/step - loss: 0.4981 - accuracy: 0.8111 - val_loss: 0.1874 - val_accuracy: 0.9632\n",
            "Epoch 123/1000\n",
            "20/29 [===================>..........] - ETA: 0s - loss: 0.5104 - accuracy: 0.8070\n",
            "Epoch 123: saving model to model/keypoint_classifier\\keypoint_classifier.hdf5\n",
            "29/29 [==============================] - 0s 5ms/step - loss: 0.5052 - accuracy: 0.8072 - val_loss: 0.1896 - val_accuracy: 0.9649\n",
            "Epoch 124/1000\n",
            "20/29 [===================>..........] - ETA: 0s - loss: 0.5112 - accuracy: 0.8109\n",
            "Epoch 124: saving model to model/keypoint_classifier\\keypoint_classifier.hdf5\n",
            "29/29 [==============================] - 0s 5ms/step - loss: 0.5042 - accuracy: 0.8159 - val_loss: 0.1944 - val_accuracy: 0.9641\n",
            "Epoch 125/1000\n",
            "18/29 [=================>............] - ETA: 0s - loss: 0.4894 - accuracy: 0.8181\n",
            "Epoch 125: saving model to model/keypoint_classifier\\keypoint_classifier.hdf5\n",
            "29/29 [==============================] - 0s 5ms/step - loss: 0.4785 - accuracy: 0.8175 - val_loss: 0.1911 - val_accuracy: 0.9657\n",
            "Epoch 126/1000\n",
            "20/29 [===================>..........] - ETA: 0s - loss: 0.4679 - accuracy: 0.8176\n",
            "Epoch 126: saving model to model/keypoint_classifier\\keypoint_classifier.hdf5\n",
            "29/29 [==============================] - 0s 5ms/step - loss: 0.4605 - accuracy: 0.8192 - val_loss: 0.1853 - val_accuracy: 0.9674\n",
            "Epoch 127/1000\n",
            "19/29 [==================>...........] - ETA: 0s - loss: 0.4702 - accuracy: 0.8261\n",
            "Epoch 127: saving model to model/keypoint_classifier\\keypoint_classifier.hdf5\n",
            "29/29 [==============================] - 0s 5ms/step - loss: 0.4658 - accuracy: 0.8265 - val_loss: 0.1841 - val_accuracy: 0.9624\n",
            "Epoch 128/1000\n",
            "20/29 [===================>..........] - ETA: 0s - loss: 0.4585 - accuracy: 0.8223\n",
            "Epoch 128: saving model to model/keypoint_classifier\\keypoint_classifier.hdf5\n",
            "29/29 [==============================] - 0s 5ms/step - loss: 0.4681 - accuracy: 0.8201 - val_loss: 0.1839 - val_accuracy: 0.9632\n",
            "Epoch 129/1000\n",
            "19/29 [==================>...........] - ETA: 0s - loss: 0.4716 - accuracy: 0.8215\n",
            "Epoch 129: saving model to model/keypoint_classifier\\keypoint_classifier.hdf5\n",
            "29/29 [==============================] - 0s 5ms/step - loss: 0.4735 - accuracy: 0.8184 - val_loss: 0.1864 - val_accuracy: 0.9641\n",
            "Epoch 130/1000\n",
            "19/29 [==================>...........] - ETA: 0s - loss: 0.4642 - accuracy: 0.8207\n",
            "Epoch 130: saving model to model/keypoint_classifier\\keypoint_classifier.hdf5\n",
            "29/29 [==============================] - 0s 5ms/step - loss: 0.4672 - accuracy: 0.8220 - val_loss: 0.1806 - val_accuracy: 0.9674\n",
            "Epoch 131/1000\n",
            "19/29 [==================>...........] - ETA: 0s - loss: 0.4692 - accuracy: 0.8273\n",
            "Epoch 131: saving model to model/keypoint_classifier\\keypoint_classifier.hdf5\n",
            "29/29 [==============================] - 0s 5ms/step - loss: 0.4574 - accuracy: 0.8287 - val_loss: 0.1779 - val_accuracy: 0.9641\n",
            "Epoch 132/1000\n",
            "19/29 [==================>...........] - ETA: 0s - loss: 0.4757 - accuracy: 0.8117\n",
            "Epoch 132: saving model to model/keypoint_classifier\\keypoint_classifier.hdf5\n",
            "29/29 [==============================] - 0s 5ms/step - loss: 0.4754 - accuracy: 0.8142 - val_loss: 0.1822 - val_accuracy: 0.9657\n",
            "Epoch 133/1000\n",
            "20/29 [===================>..........] - ETA: 0s - loss: 0.4705 - accuracy: 0.8223\n",
            "Epoch 133: saving model to model/keypoint_classifier\\keypoint_classifier.hdf5\n",
            "29/29 [==============================] - 0s 5ms/step - loss: 0.4731 - accuracy: 0.8212 - val_loss: 0.1853 - val_accuracy: 0.9649\n",
            "Epoch 134/1000\n",
            "18/29 [=================>............] - ETA: 0s - loss: 0.4819 - accuracy: 0.8090\n",
            "Epoch 134: saving model to model/keypoint_classifier\\keypoint_classifier.hdf5\n",
            "29/29 [==============================] - 0s 5ms/step - loss: 0.4626 - accuracy: 0.8181 - val_loss: 0.1844 - val_accuracy: 0.9666\n",
            "Epoch 135/1000\n",
            "20/29 [===================>..........] - ETA: 0s - loss: 0.4848 - accuracy: 0.8109\n",
            "Epoch 135: saving model to model/keypoint_classifier\\keypoint_classifier.hdf5\n",
            "29/29 [==============================] - 0s 5ms/step - loss: 0.4731 - accuracy: 0.8136 - val_loss: 0.1783 - val_accuracy: 0.9699\n",
            "Epoch 136/1000\n",
            "18/29 [=================>............] - ETA: 0s - loss: 0.4792 - accuracy: 0.8147\n",
            "Epoch 136: saving model to model/keypoint_classifier\\keypoint_classifier.hdf5\n",
            "29/29 [==============================] - 0s 5ms/step - loss: 0.4864 - accuracy: 0.8131 - val_loss: 0.1843 - val_accuracy: 0.9649\n",
            "Epoch 137/1000\n",
            "18/29 [=================>............] - ETA: 0s - loss: 0.4694 - accuracy: 0.8242\n",
            "Epoch 137: saving model to model/keypoint_classifier\\keypoint_classifier.hdf5\n",
            "29/29 [==============================] - 0s 5ms/step - loss: 0.4617 - accuracy: 0.8220 - val_loss: 0.1885 - val_accuracy: 0.9691\n",
            "Epoch 138/1000\n",
            "19/29 [==================>...........] - ETA: 0s - loss: 0.4618 - accuracy: 0.8199\n",
            "Epoch 138: saving model to model/keypoint_classifier\\keypoint_classifier.hdf5\n",
            "29/29 [==============================] - 0s 5ms/step - loss: 0.4684 - accuracy: 0.8181 - val_loss: 0.1829 - val_accuracy: 0.9657\n",
            "Epoch 139/1000\n",
            "18/29 [=================>............] - ETA: 0s - loss: 0.4781 - accuracy: 0.8151\n",
            "Epoch 139: saving model to model/keypoint_classifier\\keypoint_classifier.hdf5\n",
            "29/29 [==============================] - 0s 5ms/step - loss: 0.4699 - accuracy: 0.8198 - val_loss: 0.1805 - val_accuracy: 0.9632\n",
            "Epoch 140/1000\n",
            "18/29 [=================>............] - ETA: 0s - loss: 0.4752 - accuracy: 0.8186\n",
            "Epoch 140: saving model to model/keypoint_classifier\\keypoint_classifier.hdf5\n",
            "29/29 [==============================] - 0s 5ms/step - loss: 0.4589 - accuracy: 0.8231 - val_loss: 0.1798 - val_accuracy: 0.9666\n",
            "Epoch 141/1000\n",
            "18/29 [=================>............] - ETA: 0s - loss: 0.4706 - accuracy: 0.8277\n",
            "Epoch 141: saving model to model/keypoint_classifier\\keypoint_classifier.hdf5\n",
            "29/29 [==============================] - 0s 5ms/step - loss: 0.4659 - accuracy: 0.8248 - val_loss: 0.1800 - val_accuracy: 0.9641\n",
            "Epoch 142/1000\n",
            "19/29 [==================>...........] - ETA: 0s - loss: 0.4635 - accuracy: 0.8252\n",
            "Epoch 142: saving model to model/keypoint_classifier\\keypoint_classifier.hdf5\n",
            "29/29 [==============================] - 0s 5ms/step - loss: 0.4656 - accuracy: 0.8234 - val_loss: 0.1750 - val_accuracy: 0.9657\n",
            "Epoch 143/1000\n",
            "18/29 [=================>............] - ETA: 0s - loss: 0.4604 - accuracy: 0.8290\n",
            "Epoch 143: saving model to model/keypoint_classifier\\keypoint_classifier.hdf5\n",
            "29/29 [==============================] - 0s 5ms/step - loss: 0.4739 - accuracy: 0.8228 - val_loss: 0.1758 - val_accuracy: 0.9674\n",
            "Epoch 144/1000\n",
            "19/29 [==================>...........] - ETA: 0s - loss: 0.4750 - accuracy: 0.8187\n",
            "Epoch 144: saving model to model/keypoint_classifier\\keypoint_classifier.hdf5\n",
            "29/29 [==============================] - 0s 5ms/step - loss: 0.4692 - accuracy: 0.8184 - val_loss: 0.1869 - val_accuracy: 0.9624\n",
            "Epoch 145/1000\n",
            "18/29 [=================>............] - ETA: 0s - loss: 0.4650 - accuracy: 0.8234\n",
            "Epoch 145: saving model to model/keypoint_classifier\\keypoint_classifier.hdf5\n",
            "29/29 [==============================] - 0s 5ms/step - loss: 0.4574 - accuracy: 0.8273 - val_loss: 0.1823 - val_accuracy: 0.9683\n",
            "Epoch 146/1000\n",
            "19/29 [==================>...........] - ETA: 0s - loss: 0.4710 - accuracy: 0.8224\n",
            "Epoch 146: saving model to model/keypoint_classifier\\keypoint_classifier.hdf5\n",
            "29/29 [==============================] - 0s 5ms/step - loss: 0.4775 - accuracy: 0.8181 - val_loss: 0.1831 - val_accuracy: 0.9657\n",
            "Epoch 147/1000\n",
            "20/29 [===================>..........] - ETA: 0s - loss: 0.4489 - accuracy: 0.8328\n",
            "Epoch 147: saving model to model/keypoint_classifier\\keypoint_classifier.hdf5\n",
            "29/29 [==============================] - 0s 5ms/step - loss: 0.4476 - accuracy: 0.8343 - val_loss: 0.1794 - val_accuracy: 0.9674\n",
            "Epoch 148/1000\n",
            "18/29 [=================>............] - ETA: 0s - loss: 0.4852 - accuracy: 0.8142\n",
            "Epoch 148: saving model to model/keypoint_classifier\\keypoint_classifier.hdf5\n",
            "29/29 [==============================] - 0s 6ms/step - loss: 0.4824 - accuracy: 0.8136 - val_loss: 0.1798 - val_accuracy: 0.9691\n",
            "Epoch 149/1000\n",
            "19/29 [==================>...........] - ETA: 0s - loss: 0.4748 - accuracy: 0.8244\n",
            "Epoch 149: saving model to model/keypoint_classifier\\keypoint_classifier.hdf5\n",
            "29/29 [==============================] - 0s 5ms/step - loss: 0.4640 - accuracy: 0.8273 - val_loss: 0.1813 - val_accuracy: 0.9666\n",
            "Epoch 150/1000\n",
            "18/29 [=================>............] - ETA: 0s - loss: 0.4465 - accuracy: 0.8333\n",
            "Epoch 150: saving model to model/keypoint_classifier\\keypoint_classifier.hdf5\n",
            "29/29 [==============================] - 0s 5ms/step - loss: 0.4608 - accuracy: 0.8237 - val_loss: 0.1799 - val_accuracy: 0.9666\n",
            "Epoch 151/1000\n",
            "20/29 [===================>..........] - ETA: 0s - loss: 0.4591 - accuracy: 0.8277\n",
            "Epoch 151: saving model to model/keypoint_classifier\\keypoint_classifier.hdf5\n",
            "29/29 [==============================] - 0s 5ms/step - loss: 0.4549 - accuracy: 0.8301 - val_loss: 0.1788 - val_accuracy: 0.9691\n",
            "Epoch 152/1000\n",
            "19/29 [==================>...........] - ETA: 0s - loss: 0.4611 - accuracy: 0.8211\n",
            "Epoch 152: saving model to model/keypoint_classifier\\keypoint_classifier.hdf5\n",
            "29/29 [==============================] - 0s 5ms/step - loss: 0.4592 - accuracy: 0.8228 - val_loss: 0.1822 - val_accuracy: 0.9649\n",
            "Epoch 153/1000\n",
            "17/29 [================>.............] - ETA: 0s - loss: 0.4748 - accuracy: 0.8226\n",
            "Epoch 153: saving model to model/keypoint_classifier\\keypoint_classifier.hdf5\n",
            "29/29 [==============================] - 0s 5ms/step - loss: 0.4692 - accuracy: 0.8253 - val_loss: 0.1763 - val_accuracy: 0.9691\n",
            "Epoch 154/1000\n",
            "17/29 [================>.............] - ETA: 0s - loss: 0.4722 - accuracy: 0.8208\n",
            "Epoch 154: saving model to model/keypoint_classifier\\keypoint_classifier.hdf5\n",
            "29/29 [==============================] - 0s 5ms/step - loss: 0.4696 - accuracy: 0.8195 - val_loss: 0.1737 - val_accuracy: 0.9716\n",
            "Epoch 155/1000\n",
            "20/29 [===================>..........] - ETA: 0s - loss: 0.4316 - accuracy: 0.8379\n",
            "Epoch 155: saving model to model/keypoint_classifier\\keypoint_classifier.hdf5\n",
            "29/29 [==============================] - 0s 5ms/step - loss: 0.4410 - accuracy: 0.8351 - val_loss: 0.1795 - val_accuracy: 0.9674\n",
            "Epoch 156/1000\n",
            "17/29 [================>.............] - ETA: 0s - loss: 0.4859 - accuracy: 0.8148\n",
            "Epoch 156: saving model to model/keypoint_classifier\\keypoint_classifier.hdf5\n",
            "29/29 [==============================] - 0s 5ms/step - loss: 0.4650 - accuracy: 0.8259 - val_loss: 0.1772 - val_accuracy: 0.9699\n",
            "Epoch 157/1000\n",
            "19/29 [==================>...........] - ETA: 0s - loss: 0.4720 - accuracy: 0.8294\n",
            "Epoch 157: saving model to model/keypoint_classifier\\keypoint_classifier.hdf5\n",
            "29/29 [==============================] - 0s 5ms/step - loss: 0.4666 - accuracy: 0.8279 - val_loss: 0.1819 - val_accuracy: 0.9683\n",
            "Epoch 158/1000\n",
            "19/29 [==================>...........] - ETA: 0s - loss: 0.4524 - accuracy: 0.8203\n",
            "Epoch 158: saving model to model/keypoint_classifier\\keypoint_classifier.hdf5\n",
            "29/29 [==============================] - 0s 5ms/step - loss: 0.4624 - accuracy: 0.8153 - val_loss: 0.1783 - val_accuracy: 0.9666\n",
            "Epoch 159/1000\n",
            "17/29 [================>.............] - ETA: 0s - loss: 0.4632 - accuracy: 0.8171\n",
            "Epoch 159: saving model to model/keypoint_classifier\\keypoint_classifier.hdf5\n",
            "29/29 [==============================] - 0s 5ms/step - loss: 0.4550 - accuracy: 0.8242 - val_loss: 0.1760 - val_accuracy: 0.9699\n",
            "Epoch 160/1000\n",
            "19/29 [==================>...........] - ETA: 0s - loss: 0.4524 - accuracy: 0.8191\n",
            "Epoch 160: saving model to model/keypoint_classifier\\keypoint_classifier.hdf5\n",
            "29/29 [==============================] - 0s 5ms/step - loss: 0.4582 - accuracy: 0.8214 - val_loss: 0.1789 - val_accuracy: 0.9691\n",
            "Epoch 161/1000\n",
            "20/29 [===================>..........] - ETA: 0s - loss: 0.4358 - accuracy: 0.8383\n",
            "Epoch 161: saving model to model/keypoint_classifier\\keypoint_classifier.hdf5\n",
            "29/29 [==============================] - 0s 5ms/step - loss: 0.4446 - accuracy: 0.8326 - val_loss: 0.1739 - val_accuracy: 0.9708\n",
            "Epoch 162/1000\n",
            "20/29 [===================>..........] - ETA: 0s - loss: 0.4481 - accuracy: 0.8324\n",
            "Epoch 162: saving model to model/keypoint_classifier\\keypoint_classifier.hdf5\n",
            "29/29 [==============================] - 0s 5ms/step - loss: 0.4634 - accuracy: 0.8265 - val_loss: 0.1740 - val_accuracy: 0.9683\n",
            "Epoch 163/1000\n",
            "19/29 [==================>...........] - ETA: 0s - loss: 0.4356 - accuracy: 0.8281\n",
            "Epoch 163: saving model to model/keypoint_classifier\\keypoint_classifier.hdf5\n",
            "29/29 [==============================] - 0s 5ms/step - loss: 0.4398 - accuracy: 0.8262 - val_loss: 0.1705 - val_accuracy: 0.9683\n",
            "Epoch 164/1000\n",
            "17/29 [================>.............] - ETA: 0s - loss: 0.4615 - accuracy: 0.8300\n",
            "Epoch 164: saving model to model/keypoint_classifier\\keypoint_classifier.hdf5\n",
            "29/29 [==============================] - 0s 5ms/step - loss: 0.4574 - accuracy: 0.8279 - val_loss: 0.1675 - val_accuracy: 0.9716\n",
            "Epoch 165/1000\n",
            "29/29 [==============================] - ETA: 0s - loss: 0.4570 - accuracy: 0.8203\n",
            "Epoch 165: saving model to model/keypoint_classifier\\keypoint_classifier.hdf5\n",
            "29/29 [==============================] - 0s 6ms/step - loss: 0.4570 - accuracy: 0.8203 - val_loss: 0.1723 - val_accuracy: 0.9674\n",
            "Epoch 166/1000\n",
            "18/29 [=================>............] - ETA: 0s - loss: 0.4730 - accuracy: 0.8164\n",
            "Epoch 166: saving model to model/keypoint_classifier\\keypoint_classifier.hdf5\n",
            "29/29 [==============================] - 0s 5ms/step - loss: 0.4847 - accuracy: 0.8081 - val_loss: 0.1735 - val_accuracy: 0.9691\n",
            "Epoch 167/1000\n",
            "15/29 [==============>...............] - ETA: 0s - loss: 0.4478 - accuracy: 0.8344\n",
            "Epoch 167: saving model to model/keypoint_classifier\\keypoint_classifier.hdf5\n",
            "29/29 [==============================] - 0s 6ms/step - loss: 0.4504 - accuracy: 0.8320 - val_loss: 0.1697 - val_accuracy: 0.9699\n",
            "Epoch 168/1000\n",
            "16/29 [===============>..............] - ETA: 0s - loss: 0.4635 - accuracy: 0.8262\n",
            "Epoch 168: saving model to model/keypoint_classifier\\keypoint_classifier.hdf5\n",
            "29/29 [==============================] - 0s 5ms/step - loss: 0.4571 - accuracy: 0.8248 - val_loss: 0.1737 - val_accuracy: 0.9674\n",
            "Epoch 169/1000\n",
            "17/29 [================>.............] - ETA: 0s - loss: 0.4556 - accuracy: 0.8267\n",
            "Epoch 169: saving model to model/keypoint_classifier\\keypoint_classifier.hdf5\n",
            "29/29 [==============================] - 0s 5ms/step - loss: 0.4387 - accuracy: 0.8348 - val_loss: 0.1693 - val_accuracy: 0.9691\n",
            "Epoch 170/1000\n",
            "18/29 [=================>............] - ETA: 0s - loss: 0.4418 - accuracy: 0.8346\n",
            "Epoch 170: saving model to model/keypoint_classifier\\keypoint_classifier.hdf5\n",
            "29/29 [==============================] - 0s 5ms/step - loss: 0.4518 - accuracy: 0.8315 - val_loss: 0.1715 - val_accuracy: 0.9741\n",
            "Epoch 171/1000\n",
            "17/29 [================>.............] - ETA: 0s - loss: 0.4689 - accuracy: 0.8217\n",
            "Epoch 171: saving model to model/keypoint_classifier\\keypoint_classifier.hdf5\n",
            "29/29 [==============================] - 0s 5ms/step - loss: 0.4478 - accuracy: 0.8279 - val_loss: 0.1754 - val_accuracy: 0.9683\n",
            "Epoch 172/1000\n",
            "18/29 [=================>............] - ETA: 0s - loss: 0.4348 - accuracy: 0.8394\n",
            "Epoch 172: saving model to model/keypoint_classifier\\keypoint_classifier.hdf5\n",
            "29/29 [==============================] - 0s 5ms/step - loss: 0.4491 - accuracy: 0.8329 - val_loss: 0.1691 - val_accuracy: 0.9666\n",
            "Epoch 173/1000\n",
            "17/29 [================>.............] - ETA: 0s - loss: 0.4657 - accuracy: 0.8313\n",
            "Epoch 173: saving model to model/keypoint_classifier\\keypoint_classifier.hdf5\n",
            "29/29 [==============================] - 0s 5ms/step - loss: 0.4611 - accuracy: 0.8248 - val_loss: 0.1805 - val_accuracy: 0.9683\n",
            "Epoch 174/1000\n",
            "17/29 [================>.............] - ETA: 0s - loss: 0.4815 - accuracy: 0.8120\n",
            "Epoch 174: saving model to model/keypoint_classifier\\keypoint_classifier.hdf5\n",
            "29/29 [==============================] - 0s 5ms/step - loss: 0.4725 - accuracy: 0.8111 - val_loss: 0.1756 - val_accuracy: 0.9724\n",
            "Epoch 175/1000\n",
            "18/29 [=================>............] - ETA: 0s - loss: 0.4666 - accuracy: 0.8277\n",
            "Epoch 175: saving model to model/keypoint_classifier\\keypoint_classifier.hdf5\n",
            "29/29 [==============================] - 0s 5ms/step - loss: 0.4756 - accuracy: 0.8231 - val_loss: 0.1789 - val_accuracy: 0.9683\n",
            "Epoch 176/1000\n",
            "15/29 [==============>...............] - ETA: 0s - loss: 0.4636 - accuracy: 0.8271\n",
            "Epoch 176: saving model to model/keypoint_classifier\\keypoint_classifier.hdf5\n",
            "29/29 [==============================] - 0s 5ms/step - loss: 0.4698 - accuracy: 0.8214 - val_loss: 0.1756 - val_accuracy: 0.9699\n",
            "Epoch 177/1000\n",
            "18/29 [=================>............] - ETA: 0s - loss: 0.4640 - accuracy: 0.8225\n",
            "Epoch 177: saving model to model/keypoint_classifier\\keypoint_classifier.hdf5\n",
            "29/29 [==============================] - 0s 5ms/step - loss: 0.4497 - accuracy: 0.8343 - val_loss: 0.1704 - val_accuracy: 0.9774\n",
            "Epoch 178/1000\n",
            "18/29 [=================>............] - ETA: 0s - loss: 0.4512 - accuracy: 0.8346\n",
            "Epoch 178: saving model to model/keypoint_classifier\\keypoint_classifier.hdf5\n",
            "29/29 [==============================] - 0s 5ms/step - loss: 0.4544 - accuracy: 0.8376 - val_loss: 0.1745 - val_accuracy: 0.9724\n",
            "Epoch 179/1000\n",
            "17/29 [================>.............] - ETA: 0s - loss: 0.4520 - accuracy: 0.8222\n",
            "Epoch 179: saving model to model/keypoint_classifier\\keypoint_classifier.hdf5\n",
            "29/29 [==============================] - 0s 5ms/step - loss: 0.4702 - accuracy: 0.8134 - val_loss: 0.1748 - val_accuracy: 0.9733\n",
            "Epoch 180/1000\n",
            "19/29 [==================>...........] - ETA: 0s - loss: 0.4515 - accuracy: 0.8261\n",
            "Epoch 180: saving model to model/keypoint_classifier\\keypoint_classifier.hdf5\n",
            "29/29 [==============================] - 0s 5ms/step - loss: 0.4527 - accuracy: 0.8290 - val_loss: 0.1695 - val_accuracy: 0.9716\n",
            "Epoch 181/1000\n",
            "18/29 [=================>............] - ETA: 0s - loss: 0.4376 - accuracy: 0.8346\n",
            "Epoch 181: saving model to model/keypoint_classifier\\keypoint_classifier.hdf5\n",
            "29/29 [==============================] - 0s 5ms/step - loss: 0.4411 - accuracy: 0.8351 - val_loss: 0.1703 - val_accuracy: 0.9733\n",
            "Epoch 182/1000\n",
            "19/29 [==================>...........] - ETA: 0s - loss: 0.4431 - accuracy: 0.8306\n",
            "Epoch 182: saving model to model/keypoint_classifier\\keypoint_classifier.hdf5\n",
            "29/29 [==============================] - 0s 5ms/step - loss: 0.4471 - accuracy: 0.8270 - val_loss: 0.1763 - val_accuracy: 0.9733\n",
            "Epoch 183/1000\n",
            "18/29 [=================>............] - ETA: 0s - loss: 0.4453 - accuracy: 0.8333\n",
            "Epoch 183: saving model to model/keypoint_classifier\\keypoint_classifier.hdf5\n",
            "29/29 [==============================] - 0s 5ms/step - loss: 0.4497 - accuracy: 0.8329 - val_loss: 0.1774 - val_accuracy: 0.9666\n",
            "Epoch 184/1000\n",
            "19/29 [==================>...........] - ETA: 0s - loss: 0.4422 - accuracy: 0.8331\n",
            "Epoch 184: saving model to model/keypoint_classifier\\keypoint_classifier.hdf5\n",
            "29/29 [==============================] - 0s 5ms/step - loss: 0.4429 - accuracy: 0.8365 - val_loss: 0.1791 - val_accuracy: 0.9666\n",
            "Epoch 184: early stopping\n"
          ]
        },
        {
          "data": {
            "text/plain": [
              "<keras.callbacks.History at 0x29babe9d0f0>"
            ]
          },
          "execution_count": 11,
          "metadata": {},
          "output_type": "execute_result"
        }
      ],
      "source": [
        "model.fit(\n",
        "    X_train,\n",
        "    y_train,\n",
        "    epochs=1000,\n",
        "    batch_size=128,\n",
        "    validation_data=(X_test, y_test),\n",
        "    callbacks=[cp_callback, es_callback]\n",
        ")"
      ]
    },
    {
      "cell_type": "code",
      "execution_count": 12,
      "metadata": {
        "colab": {
          "base_uri": "https://localhost:8080/"
        },
        "id": "pxvb2Y299hE3",
        "outputId": "59eb3185-2e37-4b9e-bc9d-ab1b8ac29b7f"
      },
      "outputs": [
        {
          "name": "stdout",
          "output_type": "stream",
          "text": [
            "10/10 [==============================] - 0s 2ms/step - loss: 0.1791 - accuracy: 0.9666\n"
          ]
        }
      ],
      "source": [
        "# Model evaluation\n",
        "val_loss, val_acc = model.evaluate(X_test, y_test, batch_size=128)"
      ]
    },
    {
      "cell_type": "code",
      "execution_count": 13,
      "metadata": {
        "id": "RBkmDeUW9hE4"
      },
      "outputs": [],
      "source": [
        "# Loading the saved model\n",
        "model = tf.keras.models.load_model(model_save_path)"
      ]
    },
    {
      "cell_type": "code",
      "execution_count": 14,
      "metadata": {
        "colab": {
          "base_uri": "https://localhost:8080/"
        },
        "id": "tFz9Tb0I9hE4",
        "outputId": "1c3b3528-54ae-4ee2-ab04-77429211cbef"
      },
      "outputs": [
        {
          "name": "stdout",
          "output_type": "stream",
          "text": [
            "1/1 [==============================] - 0s 65ms/step\n",
            "[9.2653042e-01 7.3135532e-02 2.7372243e-04 6.0409722e-05]\n",
            "0\n"
          ]
        }
      ],
      "source": [
        "# Inference test\n",
        "predict_result = model.predict(np.array([X_test[0]]))\n",
        "print(np.squeeze(predict_result))\n",
        "print(np.argmax(np.squeeze(predict_result)))"
      ]
    },
    {
      "cell_type": "markdown",
      "metadata": {
        "id": "S3U4yNWx9hE4"
      },
      "source": [
        "# Confusion matrix"
      ]
    },
    {
      "cell_type": "code",
      "execution_count": 15,
      "metadata": {
        "colab": {
          "base_uri": "https://localhost:8080/",
          "height": 582
        },
        "id": "AP1V6SCk9hE5",
        "outputId": "08e41a80-7a4a-4619-8125-ecc371368d19"
      },
      "outputs": [
        {
          "name": "stdout",
          "output_type": "stream",
          "text": [
            "38/38 [==============================] - 0s 1ms/step\n"
          ]
        },
        {
          "data": {
            "image/png": "[encoded data removed]",
            "text/plain": [
              "<Figure size 700x600 with 2 Axes>"
            ]
          },
          "metadata": {},
          "output_type": "display_data"
        },
        {
          "name": "stdout",
          "output_type": "stream",
          "text": [
            "Classification Report\n",
            "              precision    recall  f1-score   support\n",
            "\n",
            "           0       0.99      0.98      0.98       402\n",
            "           1       0.99      0.93      0.96       366\n",
            "           2       0.93      0.99      0.96       343\n",
            "           3       0.94      0.99      0.97        86\n",
            "\n",
            "    accuracy                           0.97      1197\n",
            "   macro avg       0.96      0.97      0.97      1197\n",
            "weighted avg       0.97      0.97      0.97      1197\n",
            "\n"
          ]
        }
      ],
      "source": [
        "import pandas as pd\n",
        "import seaborn as sns\n",
        "import matplotlib.pyplot as plt\n",
        "from sklearn.metrics import confusion_matrix, classification_report\n",
        "\n",
        "def print_confusion_matrix(y_true, y_pred, report=True):\n",
        "    labels = sorted(list(set(y_true)))\n",
        "    cmx_data = confusion_matrix(y_true, y_pred, labels=labels)\n",
        "    \n",
        "    df_cmx = pd.DataFrame(cmx_data, index=labels, columns=labels)\n",
        " \n",
        "    fig, ax = plt.subplots(figsize=(7, 6))\n",
        "    sns.heatmap(df_cmx, annot=True, fmt='g' ,square=False)\n",
        "    ax.set_ylim(len(set(y_true)), 0)\n",
        "    plt.show()\n",
        "    \n",
        "    if report:\n",
        "        print('Classification Report')\n",
        "        print(classification_report(y_test, y_pred))\n",
        "\n",
        "Y_pred = model.predict(X_test)\n",
        "y_pred = np.argmax(Y_pred, axis=1)\n",
        "\n",
        "print_confusion_matrix(y_test, y_pred)"
      ]
    },
    {
      "cell_type": "markdown",
      "metadata": {
        "id": "FNP6aqzc9hE5"
      },
      "source": [
        "# Convert to model for Tensorflow-Lite"
      ]
    },
    {
      "cell_type": "code",
      "execution_count": 16,
      "metadata": {
        "id": "ODjnYyld9hE6"
      },
      "outputs": [],
      "source": [
        "# Save as a model dedicated to inference\n",
        "model.save(model_save_path, include_optimizer=False)"
      ]
    },
    {
      "cell_type": "code",
      "execution_count": 17,
      "metadata": {
        "colab": {
          "base_uri": "https://localhost:8080/"
        },
        "id": "zRfuK8Y59hE6",
        "outputId": "a4ca585c-b5d5-4244-8291-8674063209bb"
      },
      "outputs": [
        {
          "name": "stdout",
          "output_type": "stream",
          "text": [
            "INFO:tensorflow:Assets written to: C:\\Users\\premg\\AppData\\Local\\Temp\\tmpsweav45m\\assets\n"
          ]
        },
        {
          "data": {
            "text/plain": [
              "6544"
            ]
          },
          "execution_count": 17,
          "metadata": {},
          "output_type": "execute_result"
        }
      ],
      "source": [
        "# Transform model (quantization)\n",
        "\n",
        "converter = tf.lite.TFLiteConverter.from_keras_model(model)\n",
        "converter.optimizations = [tf.lite.Optimize.DEFAULT]\n",
        "tflite_quantized_model = converter.convert()\n",
        "\n",
        "open(tflite_save_path, 'wb').write(tflite_quantized_model)"
      ]
    },
    {
      "cell_type": "markdown",
      "metadata": {
        "id": "CHBPBXdx9hE6"
      },
      "source": [
        "# Inference test"
      ]
    },
    {
      "cell_type": "code",
      "execution_count": 18,
      "metadata": {
        "id": "mGAzLocO9hE7"
      },
      "outputs": [],
      "source": [
        "interpreter = tf.lite.Interpreter(model_path=tflite_save_path)\n",
        "interpreter.allocate_tensors()"
      ]
    },
    {
      "cell_type": "code",
      "execution_count": 19,
      "metadata": {
        "id": "oQuDK8YS9hE7"
      },
      "outputs": [],
      "source": [
        "# Get I / O tensor\n",
        "input_details = interpreter.get_input_details()\n",
        "output_details = interpreter.get_output_details()"
      ]
    },
    {
      "cell_type": "code",
      "execution_count": 20,
      "metadata": {
        "id": "2_ixAf_l9hE7"
      },
      "outputs": [],
      "source": [
        "interpreter.set_tensor(input_details[0]['index'], np.array([X_test[0]]))"
      ]
    },
    {
      "cell_type": "code",
      "execution_count": 21,
      "metadata": {
        "colab": {
          "base_uri": "https://localhost:8080/"
        },
        "id": "s4FoAnuc9hE7",
        "outputId": "91f18257-8d8b-4ef3-c558-e9b5f94fabbf",
        "scrolled": true
      },
      "outputs": [
        {
          "name": "stdout",
          "output_type": "stream",
          "text": [
            "CPU times: total: 0 ns\n",
            "Wall time: 0 ns\n"
          ]
        }
      ],
      "source": [
        "%%time\n",
        "# Inference implementation\n",
        "interpreter.invoke()\n",
        "tflite_results = interpreter.get_tensor(output_details[0]['index'])"
      ]
    },
    {
      "cell_type": "code",
      "execution_count": 22,
      "metadata": {
        "colab": {
          "base_uri": "https://localhost:8080/"
        },
        "id": "vONjp19J9hE8",
        "outputId": "77205e24-fd00-42c4-f7b6-e06e527c2cba"
      },
      "outputs": [
        {
          "name": "stdout",
          "output_type": "stream",
          "text": [
            "[9.2653042e-01 7.3135532e-02 2.7372269e-04 6.0409726e-05]\n",
            "0\n"
          ]
        }
      ],
      "source": [
        "print(np.squeeze(tflite_results))\n",
        "print(np.argmax(np.squeeze(tflite_results)))"
      ]
    }
  ],
  "metadata": {
    "accelerator": "GPU",
    "colab": {
      "collapsed_sections": [],
      "name": "keypoint_classification_EN.ipynb",
      "provenance": [],
      "toc_visible": true
    },
    "kernelspec": {
      "display_name": "Python 3",
      "language": "python",
      "name": "python3"
    },
    "language_info": {
      "codemirror_mode": {
        "name": "ipython",
        "version": 3
      },
      "file_extension": ".py",
      "mimetype": "text/x-python",
      "name": "python",
      "nbconvert_exporter": "python",
      "pygments_lexer": "ipython3",
      "version": "3.10.10"
    },
    "vscode": {
      "interpreter": {
        "hash": "08bfd1ec859dc74d77ae3244aa3df97e8b61f9697eec6060463b11dc66f6fc84"
      }
    }
  },
  "nbformat": 4,
  "nbformat_minor": 0
}
